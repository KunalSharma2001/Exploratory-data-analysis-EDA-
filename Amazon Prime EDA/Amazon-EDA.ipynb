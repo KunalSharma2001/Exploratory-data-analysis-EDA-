{
 "cells": [
  {
   "attachments": {},
   "cell_type": "markdown",
   "id": "144e0ac1",
   "metadata": {},
   "source": [
    "# Amazon Prime EDA"
   ]
  },
  {
   "cell_type": "code",
   "execution_count": 2,
   "id": "3f3ce1df",
   "metadata": {},
   "outputs": [],
   "source": [
    "import pandas as pd\n",
    "import numpy as np\n",
    "import matplotlib.pyplot as plt\n",
    "import seaborn as sns"
   ]
  },
  {
   "attachments": {},
   "cell_type": "markdown",
   "id": "a98f09a3",
   "metadata": {},
   "source": [
    "## Loading the data into the Data Frame"
   ]
  },
  {
   "cell_type": "code",
   "execution_count": 3,
   "id": "c8c3d5e0",
   "metadata": {},
   "outputs": [],
   "source": [
    "df = pd.read_csv('amazon_prime_titles.csv')"
   ]
  },
  {
   "cell_type": "code",
   "execution_count": 4,
   "id": "c6249382",
   "metadata": {},
   "outputs": [
    {
     "data": {
      "text/html": [
       "<div>\n",
       "<style scoped>\n",
       "    .dataframe tbody tr th:only-of-type {\n",
       "        vertical-align: middle;\n",
       "    }\n",
       "\n",
       "    .dataframe tbody tr th {\n",
       "        vertical-align: top;\n",
       "    }\n",
       "\n",
       "    .dataframe thead th {\n",
       "        text-align: right;\n",
       "    }\n",
       "</style>\n",
       "<table border=\"1\" class=\"dataframe\">\n",
       "  <thead>\n",
       "    <tr style=\"text-align: right;\">\n",
       "      <th></th>\n",
       "      <th>show_id</th>\n",
       "      <th>type</th>\n",
       "      <th>title</th>\n",
       "      <th>director</th>\n",
       "      <th>cast</th>\n",
       "      <th>country</th>\n",
       "      <th>date_added</th>\n",
       "      <th>release_year</th>\n",
       "      <th>rating</th>\n",
       "      <th>duration</th>\n",
       "      <th>listed_in</th>\n",
       "      <th>description</th>\n",
       "    </tr>\n",
       "  </thead>\n",
       "  <tbody>\n",
       "    <tr>\n",
       "      <th>0</th>\n",
       "      <td>s1</td>\n",
       "      <td>Movie</td>\n",
       "      <td>The Grand Seduction</td>\n",
       "      <td>Don McKellar</td>\n",
       "      <td>Brendan Gleeson, Taylor Kitsch, Gordon Pinsent</td>\n",
       "      <td>Canada</td>\n",
       "      <td>March 30, 2021</td>\n",
       "      <td>2014</td>\n",
       "      <td>NaN</td>\n",
       "      <td>113 min</td>\n",
       "      <td>Comedy, Drama</td>\n",
       "      <td>A small fishing village must procure a local d...</td>\n",
       "    </tr>\n",
       "    <tr>\n",
       "      <th>1</th>\n",
       "      <td>s2</td>\n",
       "      <td>Movie</td>\n",
       "      <td>Take Care Good Night</td>\n",
       "      <td>Girish Joshi</td>\n",
       "      <td>Mahesh Manjrekar, Abhay Mahajan, Sachin Khedekar</td>\n",
       "      <td>India</td>\n",
       "      <td>March 30, 2021</td>\n",
       "      <td>2018</td>\n",
       "      <td>13+</td>\n",
       "      <td>110 min</td>\n",
       "      <td>Drama, International</td>\n",
       "      <td>A Metro Family decides to fight a Cyber Crimin...</td>\n",
       "    </tr>\n",
       "    <tr>\n",
       "      <th>2</th>\n",
       "      <td>s3</td>\n",
       "      <td>Movie</td>\n",
       "      <td>Secrets of Deception</td>\n",
       "      <td>Josh Webber</td>\n",
       "      <td>Tom Sizemore, Lorenzo Lamas, Robert LaSardo, R...</td>\n",
       "      <td>United States</td>\n",
       "      <td>March 30, 2021</td>\n",
       "      <td>2017</td>\n",
       "      <td>NaN</td>\n",
       "      <td>74 min</td>\n",
       "      <td>Action, Drama, Suspense</td>\n",
       "      <td>After a man discovers his wife is cheating on ...</td>\n",
       "    </tr>\n",
       "    <tr>\n",
       "      <th>3</th>\n",
       "      <td>s4</td>\n",
       "      <td>Movie</td>\n",
       "      <td>Pink: Staying True</td>\n",
       "      <td>Sonia Anderson</td>\n",
       "      <td>Interviews with: Pink, Adele, Beyoncé, Britney...</td>\n",
       "      <td>United States</td>\n",
       "      <td>March 30, 2021</td>\n",
       "      <td>2014</td>\n",
       "      <td>NaN</td>\n",
       "      <td>69 min</td>\n",
       "      <td>Documentary</td>\n",
       "      <td>Pink breaks the mold once again, bringing her ...</td>\n",
       "    </tr>\n",
       "    <tr>\n",
       "      <th>4</th>\n",
       "      <td>s5</td>\n",
       "      <td>Movie</td>\n",
       "      <td>Monster Maker</td>\n",
       "      <td>Giles Foster</td>\n",
       "      <td>Harry Dean Stanton, Kieran O'Brien, George Cos...</td>\n",
       "      <td>United Kingdom</td>\n",
       "      <td>March 30, 2021</td>\n",
       "      <td>1989</td>\n",
       "      <td>NaN</td>\n",
       "      <td>45 min</td>\n",
       "      <td>Drama, Fantasy</td>\n",
       "      <td>Teenage Matt Banting wants to work with a famo...</td>\n",
       "    </tr>\n",
       "  </tbody>\n",
       "</table>\n",
       "</div>"
      ],
      "text/plain": [
       "  show_id   type                 title        director  \\\n",
       "0      s1  Movie   The Grand Seduction    Don McKellar   \n",
       "1      s2  Movie  Take Care Good Night    Girish Joshi   \n",
       "2      s3  Movie  Secrets of Deception     Josh Webber   \n",
       "3      s4  Movie    Pink: Staying True  Sonia Anderson   \n",
       "4      s5  Movie         Monster Maker    Giles Foster   \n",
       "\n",
       "                                                cast         country  \\\n",
       "0     Brendan Gleeson, Taylor Kitsch, Gordon Pinsent          Canada   \n",
       "1   Mahesh Manjrekar, Abhay Mahajan, Sachin Khedekar           India   \n",
       "2  Tom Sizemore, Lorenzo Lamas, Robert LaSardo, R...   United States   \n",
       "3  Interviews with: Pink, Adele, Beyoncé, Britney...   United States   \n",
       "4  Harry Dean Stanton, Kieran O'Brien, George Cos...  United Kingdom   \n",
       "\n",
       "       date_added  release_year rating duration                listed_in  \\\n",
       "0  March 30, 2021          2014    NaN  113 min            Comedy, Drama   \n",
       "1  March 30, 2021          2018    13+  110 min     Drama, International   \n",
       "2  March 30, 2021          2017    NaN   74 min  Action, Drama, Suspense   \n",
       "3  March 30, 2021          2014    NaN   69 min              Documentary   \n",
       "4  March 30, 2021          1989    NaN   45 min           Drama, Fantasy   \n",
       "\n",
       "                                         description  \n",
       "0  A small fishing village must procure a local d...  \n",
       "1  A Metro Family decides to fight a Cyber Crimin...  \n",
       "2  After a man discovers his wife is cheating on ...  \n",
       "3  Pink breaks the mold once again, bringing her ...  \n",
       "4  Teenage Matt Banting wants to work with a famo...  "
      ]
     },
     "execution_count": 4,
     "metadata": {},
     "output_type": "execute_result"
    }
   ],
   "source": [
    "df.head(5)"
   ]
  },
  {
   "cell_type": "code",
   "execution_count": 5,
   "id": "ad2fdbae",
   "metadata": {},
   "outputs": [
    {
     "name": "stdout",
     "output_type": "stream",
     "text": [
      "<class 'pandas.core.frame.DataFrame'>\n",
      "RangeIndex: 9668 entries, 0 to 9667\n",
      "Data columns (total 12 columns):\n",
      " #   Column        Non-Null Count  Dtype \n",
      "---  ------        --------------  ----- \n",
      " 0   show_id       9668 non-null   object\n",
      " 1   type          9668 non-null   object\n",
      " 2   title         9668 non-null   object\n",
      " 3   director      7586 non-null   object\n",
      " 4   cast          8435 non-null   object\n",
      " 5   country       672 non-null    object\n",
      " 6   date_added    155 non-null    object\n",
      " 7   release_year  9668 non-null   int64 \n",
      " 8   rating        9331 non-null   object\n",
      " 9   duration      9668 non-null   object\n",
      " 10  listed_in     9668 non-null   object\n",
      " 11  description   9668 non-null   object\n",
      "dtypes: int64(1), object(11)\n",
      "memory usage: 906.5+ KB\n"
     ]
    }
   ],
   "source": [
    "df.info()"
   ]
  },
  {
   "cell_type": "code",
   "execution_count": 6,
   "id": "e9d127a3",
   "metadata": {},
   "outputs": [
    {
     "data": {
      "text/html": [
       "<div>\n",
       "<style scoped>\n",
       "    .dataframe tbody tr th:only-of-type {\n",
       "        vertical-align: middle;\n",
       "    }\n",
       "\n",
       "    .dataframe tbody tr th {\n",
       "        vertical-align: top;\n",
       "    }\n",
       "\n",
       "    .dataframe thead th {\n",
       "        text-align: right;\n",
       "    }\n",
       "</style>\n",
       "<table border=\"1\" class=\"dataframe\">\n",
       "  <thead>\n",
       "    <tr style=\"text-align: right;\">\n",
       "      <th></th>\n",
       "      <th>show_id</th>\n",
       "      <th>type</th>\n",
       "      <th>title</th>\n",
       "      <th>director</th>\n",
       "      <th>cast</th>\n",
       "      <th>country</th>\n",
       "      <th>date_added</th>\n",
       "      <th>release_year</th>\n",
       "      <th>rating</th>\n",
       "      <th>duration</th>\n",
       "      <th>listed_in</th>\n",
       "      <th>description</th>\n",
       "    </tr>\n",
       "  </thead>\n",
       "  <tbody>\n",
       "    <tr>\n",
       "      <th>9663</th>\n",
       "      <td>s9664</td>\n",
       "      <td>Movie</td>\n",
       "      <td>Pride Of The Bowery</td>\n",
       "      <td>Joseph H. Lewis</td>\n",
       "      <td>Leo Gorcey, Bobby Jordan</td>\n",
       "      <td>NaN</td>\n",
       "      <td>NaN</td>\n",
       "      <td>1940</td>\n",
       "      <td>7+</td>\n",
       "      <td>60 min</td>\n",
       "      <td>Comedy</td>\n",
       "      <td>New York City street principles get an East Si...</td>\n",
       "    </tr>\n",
       "    <tr>\n",
       "      <th>9664</th>\n",
       "      <td>s9665</td>\n",
       "      <td>TV Show</td>\n",
       "      <td>Planet Patrol</td>\n",
       "      <td>NaN</td>\n",
       "      <td>DICK VOSBURGH, RONNIE STEVENS, LIBBY MORRIS, M...</td>\n",
       "      <td>NaN</td>\n",
       "      <td>NaN</td>\n",
       "      <td>2018</td>\n",
       "      <td>13+</td>\n",
       "      <td>4 Seasons</td>\n",
       "      <td>TV Shows</td>\n",
       "      <td>This is Earth, 2100AD - and these are the adve...</td>\n",
       "    </tr>\n",
       "    <tr>\n",
       "      <th>9665</th>\n",
       "      <td>s9666</td>\n",
       "      <td>Movie</td>\n",
       "      <td>Outpost</td>\n",
       "      <td>Steve Barker</td>\n",
       "      <td>Ray Stevenson, Julian Wadham, Richard Brake, M...</td>\n",
       "      <td>NaN</td>\n",
       "      <td>NaN</td>\n",
       "      <td>2008</td>\n",
       "      <td>R</td>\n",
       "      <td>90 min</td>\n",
       "      <td>Action</td>\n",
       "      <td>In war-torn Eastern Europe, a world-weary grou...</td>\n",
       "    </tr>\n",
       "    <tr>\n",
       "      <th>9666</th>\n",
       "      <td>s9667</td>\n",
       "      <td>TV Show</td>\n",
       "      <td>Maradona: Blessed Dream</td>\n",
       "      <td>NaN</td>\n",
       "      <td>Esteban Recagno, Ezequiel Stremiz, Luciano Vit...</td>\n",
       "      <td>NaN</td>\n",
       "      <td>NaN</td>\n",
       "      <td>2021</td>\n",
       "      <td>TV-MA</td>\n",
       "      <td>1 Season</td>\n",
       "      <td>Drama, Sports</td>\n",
       "      <td>The series tells the story of Diego Maradona, ...</td>\n",
       "    </tr>\n",
       "    <tr>\n",
       "      <th>9667</th>\n",
       "      <td>s9668</td>\n",
       "      <td>Movie</td>\n",
       "      <td>Harry Brown</td>\n",
       "      <td>Daniel Barber</td>\n",
       "      <td>Michael Caine, Emily Mortimer, Joseph Gilgun, ...</td>\n",
       "      <td>NaN</td>\n",
       "      <td>NaN</td>\n",
       "      <td>2010</td>\n",
       "      <td>R</td>\n",
       "      <td>103 min</td>\n",
       "      <td>Action, Drama, Suspense</td>\n",
       "      <td>Harry Brown, starring two-time Academy Award w...</td>\n",
       "    </tr>\n",
       "  </tbody>\n",
       "</table>\n",
       "</div>"
      ],
      "text/plain": [
       "     show_id     type                    title         director  \\\n",
       "9663   s9664    Movie      Pride Of The Bowery  Joseph H. Lewis   \n",
       "9664   s9665  TV Show            Planet Patrol              NaN   \n",
       "9665   s9666    Movie                  Outpost     Steve Barker   \n",
       "9666   s9667  TV Show  Maradona: Blessed Dream              NaN   \n",
       "9667   s9668    Movie              Harry Brown    Daniel Barber   \n",
       "\n",
       "                                                   cast country date_added  \\\n",
       "9663                           Leo Gorcey, Bobby Jordan     NaN        NaN   \n",
       "9664  DICK VOSBURGH, RONNIE STEVENS, LIBBY MORRIS, M...     NaN        NaN   \n",
       "9665  Ray Stevenson, Julian Wadham, Richard Brake, M...     NaN        NaN   \n",
       "9666  Esteban Recagno, Ezequiel Stremiz, Luciano Vit...     NaN        NaN   \n",
       "9667  Michael Caine, Emily Mortimer, Joseph Gilgun, ...     NaN        NaN   \n",
       "\n",
       "      release_year rating   duration                listed_in  \\\n",
       "9663          1940     7+     60 min                   Comedy   \n",
       "9664          2018    13+  4 Seasons                 TV Shows   \n",
       "9665          2008      R     90 min                   Action   \n",
       "9666          2021  TV-MA   1 Season            Drama, Sports   \n",
       "9667          2010      R    103 min  Action, Drama, Suspense   \n",
       "\n",
       "                                            description  \n",
       "9663  New York City street principles get an East Si...  \n",
       "9664  This is Earth, 2100AD - and these are the adve...  \n",
       "9665  In war-torn Eastern Europe, a world-weary grou...  \n",
       "9666  The series tells the story of Diego Maradona, ...  \n",
       "9667  Harry Brown, starring two-time Academy Award w...  "
      ]
     },
     "execution_count": 6,
     "metadata": {},
     "output_type": "execute_result"
    }
   ],
   "source": [
    "df.tail(5)"
   ]
  },
  {
   "cell_type": "code",
   "execution_count": 10,
   "id": "6c3d43db",
   "metadata": {},
   "outputs": [
    {
     "name": "stdout",
     "output_type": "stream",
     "text": [
      "show_id            0\n",
      "type               0\n",
      "title              0\n",
      "director        2082\n",
      "cast            1233\n",
      "country         8996\n",
      "date_added      9513\n",
      "release_year       0\n",
      "rating           337\n",
      "duration           0\n",
      "listed_in          0\n",
      "description        0\n",
      "dtype: int64\n",
      "\n",
      "\n",
      "Total isnull data : 22161\n"
     ]
    }
   ],
   "source": [
    "print(df.isnull().sum())\n",
    "print('\\n')\n",
    "print('Total isnull data :', df.isnull().sum().sum())"
   ]
  },
  {
   "cell_type": "code",
   "execution_count": 14,
   "id": "3c65ea3b",
   "metadata": {},
   "outputs": [
    {
     "data": {
      "image/png": "[encoded data removed]",
      "text/plain": [
       "<Figure size 432x288 with 2 Axes>"
      ]
     },
     "metadata": {
      "needs_background": "light"
     },
     "output_type": "display_data"
    }
   ],
   "source": [
    "# Checking the missing data across different columns\n",
    "sns.heatmap(df.isnull());"
   ]
  },
  {
   "cell_type": "code",
   "execution_count": 15,
   "id": "84aaf46a",
   "metadata": {},
   "outputs": [
    {
     "data": {
      "text/plain": [
       "show_id         9668\n",
       "type               2\n",
       "title           9668\n",
       "director        5774\n",
       "cast            7927\n",
       "country           86\n",
       "date_added        84\n",
       "release_year     100\n",
       "rating            24\n",
       "duration         219\n",
       "listed_in        518\n",
       "description     9414\n",
       "dtype: int64"
      ]
     },
     "execution_count": 15,
     "metadata": {},
     "output_type": "execute_result"
    }
   ],
   "source": [
    "# nunique : count the number of distinct elements\n",
    "df.nunique()"
   ]
  },
  {
   "attachments": {},
   "cell_type": "markdown",
   "id": "67196f40",
   "metadata": {},
   "source": [
    "Here we can see that, 'type :' value has only 2 values. i.e. Moveis and TV Shows"
   ]
  },
  {
   "attachments": {},
   "cell_type": "markdown",
   "id": "02c28934",
   "metadata": {},
   "source": [
    "### Handling the NULL values"
   ]
  },
  {
   "cell_type": "code",
   "execution_count": 16,
   "id": "cbbe7056",
   "metadata": {},
   "outputs": [],
   "source": [
    "df.director.fillna('Data Unavailable', inplace=True)\n",
    "df.cast.fillna('Data Unavailable', inplace=True)\n",
    "df.rating.fillna('Data Unavailable', inplace=True)"
   ]
  },
  {
   "cell_type": "code",
   "execution_count": 18,
   "id": "67220f63",
   "metadata": {},
   "outputs": [],
   "source": [
    "df.date_added.fillna('Data Unavailable', inplace=True)"
   ]
  },
  {
   "cell_type": "code",
   "execution_count": 19,
   "id": "eba3629b",
   "metadata": {},
   "outputs": [
    {
     "name": "stdout",
     "output_type": "stream",
     "text": [
      "show_id            0\n",
      "type               0\n",
      "title              0\n",
      "director           0\n",
      "cast               0\n",
      "country         8996\n",
      "date_added         0\n",
      "release_year       0\n",
      "rating             0\n",
      "duration           0\n",
      "listed_in          0\n",
      "description        0\n",
      "dtype: int64\n"
     ]
    }
   ],
   "source": [
    "print(df.isnull().sum())"
   ]
  },
  {
   "cell_type": "code",
   "execution_count": 20,
   "id": "0b45cb4c",
   "metadata": {},
   "outputs": [],
   "source": [
    "df.country.fillna('Data Unavailable', inplace=True)"
   ]
  },
  {
   "cell_type": "code",
   "execution_count": 21,
   "id": "2c730b76",
   "metadata": {},
   "outputs": [
    {
     "data": {
      "text/plain": [
       "show_id         0\n",
       "type            0\n",
       "title           0\n",
       "director        0\n",
       "cast            0\n",
       "country         0\n",
       "date_added      0\n",
       "release_year    0\n",
       "rating          0\n",
       "duration        0\n",
       "listed_in       0\n",
       "description     0\n",
       "dtype: int64"
      ]
     },
     "execution_count": 21,
     "metadata": {},
     "output_type": "execute_result"
    }
   ],
   "source": [
    "df.isnull().sum()"
   ]
  },
  {
   "cell_type": "code",
   "execution_count": 22,
   "id": "d9e750f9",
   "metadata": {},
   "outputs": [
    {
     "data": {
      "text/plain": [
       "False"
      ]
     },
     "execution_count": 22,
     "metadata": {},
     "output_type": "execute_result"
    }
   ],
   "source": [
    "df.isnull().values.any()"
   ]
  },
  {
   "attachments": {},
   "cell_type": "markdown",
   "id": "151c990d",
   "metadata": {},
   "source": [
    "Thus we've filled the all the NAN values"
   ]
  },
  {
   "attachments": {},
   "cell_type": "markdown",
   "id": "a98b7fb8",
   "metadata": {},
   "source": [
    "## TV vs MOVIES"
   ]
  },
  {
   "cell_type": "code",
   "execution_count": 26,
   "id": "a212325c",
   "metadata": {},
   "outputs": [
    {
     "data": {
      "image/png": "[encoded data removed]",
      "text/plain": [
       "<Figure size 432x288 with 1 Axes>"
      ]
     },
     "metadata": {},
     "output_type": "display_data"
    }
   ],
   "source": [
    "plt.pie(df.type.value_counts(), labels=(df.type.unique()),\n",
    "        explode=(0.025, 0.025), autopct='%1.1f%%');"
   ]
  },
  {
   "attachments": {},
   "cell_type": "markdown",
   "id": "41ded147",
   "metadata": {},
   "source": [
    "## Analysis of TV shoes and Movies"
   ]
  },
  {
   "attachments": {},
   "cell_type": "markdown",
   "id": "e46f95bc",
   "metadata": {},
   "source": [
    "So we start of the analysing the different type of Movies and T.V Shows"
   ]
  },
  {
   "cell_type": "code",
   "execution_count": 31,
   "id": "2c5ceb29",
   "metadata": {},
   "outputs": [],
   "source": [
    "# creating seperate Database for Movies and TV Shows\n",
    "movies_df = df[df['type'] == 'Movie'].copy()\n",
    "tv_df = df[df['type']=='TV Show'].copy()"
   ]
  },
  {
   "cell_type": "code",
   "execution_count": 35,
   "id": "2f599498",
   "metadata": {},
   "outputs": [
    {
     "data": {
      "text/html": [
       "<div>\n",
       "<style scoped>\n",
       "    .dataframe tbody tr th:only-of-type {\n",
       "        vertical-align: middle;\n",
       "    }\n",
       "\n",
       "    .dataframe tbody tr th {\n",
       "        vertical-align: top;\n",
       "    }\n",
       "\n",
       "    .dataframe thead th {\n",
       "        text-align: right;\n",
       "    }\n",
       "</style>\n",
       "<table border=\"1\" class=\"dataframe\">\n",
       "  <thead>\n",
       "    <tr style=\"text-align: right;\">\n",
       "      <th></th>\n",
       "      <th>show_id</th>\n",
       "      <th>type</th>\n",
       "      <th>title</th>\n",
       "      <th>director</th>\n",
       "      <th>cast</th>\n",
       "      <th>country</th>\n",
       "      <th>date_added</th>\n",
       "      <th>release_year</th>\n",
       "      <th>rating</th>\n",
       "      <th>duration</th>\n",
       "      <th>listed_in</th>\n",
       "      <th>description</th>\n",
       "    </tr>\n",
       "  </thead>\n",
       "  <tbody>\n",
       "    <tr>\n",
       "      <th>5031</th>\n",
       "      <td>s5032</td>\n",
       "      <td>Movie</td>\n",
       "      <td>A Dog's Courage</td>\n",
       "      <td>Sung-yoon Lee</td>\n",
       "      <td>Eric Roland, Patrick McAllister, Bryan Massey,...</td>\n",
       "      <td>Data Unavailable</td>\n",
       "      <td>Data Unavailable</td>\n",
       "      <td>2020</td>\n",
       "      <td>7+</td>\n",
       "      <td>102 min</td>\n",
       "      <td>Action, Kids</td>\n",
       "      <td>Jacob, a feisty and playful dog abandoned by h...</td>\n",
       "    </tr>\n",
       "    <tr>\n",
       "      <th>8624</th>\n",
       "      <td>s8625</td>\n",
       "      <td>Movie</td>\n",
       "      <td>The Sleeper</td>\n",
       "      <td>Stuart Orme</td>\n",
       "      <td>Annabelle Apsion, Eileen Atkins, Ciaran Hinds,...</td>\n",
       "      <td>Data Unavailable</td>\n",
       "      <td>Data Unavailable</td>\n",
       "      <td>2000</td>\n",
       "      <td>18+</td>\n",
       "      <td>104 min</td>\n",
       "      <td>Drama, Horror, Suspense</td>\n",
       "      <td>The presence of a strange old lady at Violet M...</td>\n",
       "    </tr>\n",
       "    <tr>\n",
       "      <th>5261</th>\n",
       "      <td>s5262</td>\n",
       "      <td>Movie</td>\n",
       "      <td>Nishabdham</td>\n",
       "      <td>Hemant Madhukar</td>\n",
       "      <td>Anushka Shetty, Madhavan, Anjali, Michael Madsen</td>\n",
       "      <td>Data Unavailable</td>\n",
       "      <td>Data Unavailable</td>\n",
       "      <td>2020</td>\n",
       "      <td>16+</td>\n",
       "      <td>126 min</td>\n",
       "      <td>Suspense</td>\n",
       "      <td>A murder-mystery thriller. A world-famous cell...</td>\n",
       "    </tr>\n",
       "    <tr>\n",
       "      <th>8904</th>\n",
       "      <td>s8905</td>\n",
       "      <td>Movie</td>\n",
       "      <td>Cosmoball</td>\n",
       "      <td>Dzhanik Fayziev</td>\n",
       "      <td>Viktoriya Agalakova, Wolfgang Cerny</td>\n",
       "      <td>Data Unavailable</td>\n",
       "      <td>Data Unavailable</td>\n",
       "      <td>2021</td>\n",
       "      <td>7+</td>\n",
       "      <td>118 min</td>\n",
       "      <td>Action, Kids, Science Fiction</td>\n",
       "      <td>Life on earth is desolate after a brutal inter...</td>\n",
       "    </tr>\n",
       "    <tr>\n",
       "      <th>5760</th>\n",
       "      <td>s5761</td>\n",
       "      <td>Movie</td>\n",
       "      <td>Unacknowledged: An Expose of the World's Great...</td>\n",
       "      <td>Michael Mazzola</td>\n",
       "      <td>Steven M. Greer, Giancarlo Esposito, Richard D...</td>\n",
       "      <td>Data Unavailable</td>\n",
       "      <td>Data Unavailable</td>\n",
       "      <td>2017</td>\n",
       "      <td>18+</td>\n",
       "      <td>104 min</td>\n",
       "      <td>Documentary</td>\n",
       "      <td>Dr. Steven Greer present brand new, stop secre...</td>\n",
       "    </tr>\n",
       "    <tr>\n",
       "      <th>8783</th>\n",
       "      <td>s8784</td>\n",
       "      <td>Movie</td>\n",
       "      <td>Symptoma 20</td>\n",
       "      <td>Jesús Enrique López Vargas, Athziri Morales, B...</td>\n",
       "      <td>Valeria Alvarez, Joseph Fernandez, Jared Berry...</td>\n",
       "      <td>Data Unavailable</td>\n",
       "      <td>Data Unavailable</td>\n",
       "      <td>2020</td>\n",
       "      <td>16+</td>\n",
       "      <td>50 min</td>\n",
       "      <td>Arthouse, Horror, Science Fiction</td>\n",
       "      <td>\"Symptoma 20\" is a video project that explores...</td>\n",
       "    </tr>\n",
       "    <tr>\n",
       "      <th>6192</th>\n",
       "      <td>s6193</td>\n",
       "      <td>Movie</td>\n",
       "      <td>Wish You Were Here</td>\n",
       "      <td>Kieran Darcy-Smith</td>\n",
       "      <td>Joel Edgerton, Teresa Palmer, Antony Starr, Fe...</td>\n",
       "      <td>Data Unavailable</td>\n",
       "      <td>Data Unavailable</td>\n",
       "      <td>2013</td>\n",
       "      <td>R</td>\n",
       "      <td>93 min</td>\n",
       "      <td>Drama, Suspense</td>\n",
       "      <td>Four friends lose themselves in a carefree hol...</td>\n",
       "    </tr>\n",
       "    <tr>\n",
       "      <th>1968</th>\n",
       "      <td>s1969</td>\n",
       "      <td>Movie</td>\n",
       "      <td>Kanji Ishiwara: The Man Who Triggered the War</td>\n",
       "      <td>Paul Jenkins</td>\n",
       "      <td>Data Unavailable</td>\n",
       "      <td>Data Unavailable</td>\n",
       "      <td>Data Unavailable</td>\n",
       "      <td>2018</td>\n",
       "      <td>ALL</td>\n",
       "      <td>52 min</td>\n",
       "      <td>Documentary, Special Interest</td>\n",
       "      <td>Most people think that World War II started on...</td>\n",
       "    </tr>\n",
       "    <tr>\n",
       "      <th>1375</th>\n",
       "      <td>s1376</td>\n",
       "      <td>Movie</td>\n",
       "      <td>Park Avenue: Money, Power &amp; The American Dream</td>\n",
       "      <td>Alex Gibney</td>\n",
       "      <td>Paul Piff, Anne Rueth, Colin Dunkley, April Du...</td>\n",
       "      <td>Data Unavailable</td>\n",
       "      <td>Data Unavailable</td>\n",
       "      <td>2012</td>\n",
       "      <td>16+</td>\n",
       "      <td>71 min</td>\n",
       "      <td>Documentary, Special Interest</td>\n",
       "      <td>If income inequality were a sport, the residen...</td>\n",
       "    </tr>\n",
       "    <tr>\n",
       "      <th>9135</th>\n",
       "      <td>s9136</td>\n",
       "      <td>Movie</td>\n",
       "      <td>On Golden Pond</td>\n",
       "      <td>Mark Rydell</td>\n",
       "      <td>Henry Fonda, Katherine Hepburn, Jane Fonda</td>\n",
       "      <td>Data Unavailable</td>\n",
       "      <td>Data Unavailable</td>\n",
       "      <td>1981</td>\n",
       "      <td>PG</td>\n",
       "      <td>109 min</td>\n",
       "      <td>Drama</td>\n",
       "      <td>In his final role, Henry Fonda plays Norman Th...</td>\n",
       "    </tr>\n",
       "  </tbody>\n",
       "</table>\n",
       "</div>"
      ],
      "text/plain": [
       "     show_id   type                                              title  \\\n",
       "5031   s5032  Movie                                    A Dog's Courage   \n",
       "8624   s8625  Movie                                        The Sleeper   \n",
       "5261   s5262  Movie                                         Nishabdham   \n",
       "8904   s8905  Movie                                          Cosmoball   \n",
       "5760   s5761  Movie  Unacknowledged: An Expose of the World's Great...   \n",
       "8783   s8784  Movie                                        Symptoma 20   \n",
       "6192   s6193  Movie                                 Wish You Were Here   \n",
       "1968   s1969  Movie      Kanji Ishiwara: The Man Who Triggered the War   \n",
       "1375   s1376  Movie     Park Avenue: Money, Power & The American Dream   \n",
       "9135   s9136  Movie                                     On Golden Pond   \n",
       "\n",
       "                                               director  \\\n",
       "5031                                      Sung-yoon Lee   \n",
       "8624                                        Stuart Orme   \n",
       "5261                                    Hemant Madhukar   \n",
       "8904                                    Dzhanik Fayziev   \n",
       "5760                                    Michael Mazzola   \n",
       "8783  Jesús Enrique López Vargas, Athziri Morales, B...   \n",
       "6192                                 Kieran Darcy-Smith   \n",
       "1968                                       Paul Jenkins   \n",
       "1375                                        Alex Gibney   \n",
       "9135                                        Mark Rydell   \n",
       "\n",
       "                                                   cast           country  \\\n",
       "5031  Eric Roland, Patrick McAllister, Bryan Massey,...  Data Unavailable   \n",
       "8624  Annabelle Apsion, Eileen Atkins, Ciaran Hinds,...  Data Unavailable   \n",
       "5261   Anushka Shetty, Madhavan, Anjali, Michael Madsen  Data Unavailable   \n",
       "8904                Viktoriya Agalakova, Wolfgang Cerny  Data Unavailable   \n",
       "5760  Steven M. Greer, Giancarlo Esposito, Richard D...  Data Unavailable   \n",
       "8783  Valeria Alvarez, Joseph Fernandez, Jared Berry...  Data Unavailable   \n",
       "6192  Joel Edgerton, Teresa Palmer, Antony Starr, Fe...  Data Unavailable   \n",
       "1968                                   Data Unavailable  Data Unavailable   \n",
       "1375  Paul Piff, Anne Rueth, Colin Dunkley, April Du...  Data Unavailable   \n",
       "9135         Henry Fonda, Katherine Hepburn, Jane Fonda  Data Unavailable   \n",
       "\n",
       "            date_added  release_year rating duration  \\\n",
       "5031  Data Unavailable          2020     7+  102 min   \n",
       "8624  Data Unavailable          2000    18+  104 min   \n",
       "5261  Data Unavailable          2020    16+  126 min   \n",
       "8904  Data Unavailable          2021     7+  118 min   \n",
       "5760  Data Unavailable          2017    18+  104 min   \n",
       "8783  Data Unavailable          2020    16+   50 min   \n",
       "6192  Data Unavailable          2013      R   93 min   \n",
       "1968  Data Unavailable          2018    ALL   52 min   \n",
       "1375  Data Unavailable          2012    16+   71 min   \n",
       "9135  Data Unavailable          1981     PG  109 min   \n",
       "\n",
       "                              listed_in  \\\n",
       "5031                       Action, Kids   \n",
       "8624            Drama, Horror, Suspense   \n",
       "5261                           Suspense   \n",
       "8904      Action, Kids, Science Fiction   \n",
       "5760                        Documentary   \n",
       "8783  Arthouse, Horror, Science Fiction   \n",
       "6192                    Drama, Suspense   \n",
       "1968      Documentary, Special Interest   \n",
       "1375      Documentary, Special Interest   \n",
       "9135                              Drama   \n",
       "\n",
       "                                            description  \n",
       "5031  Jacob, a feisty and playful dog abandoned by h...  \n",
       "8624  The presence of a strange old lady at Violet M...  \n",
       "5261  A murder-mystery thriller. A world-famous cell...  \n",
       "8904  Life on earth is desolate after a brutal inter...  \n",
       "5760  Dr. Steven Greer present brand new, stop secre...  \n",
       "8783  \"Symptoma 20\" is a video project that explores...  \n",
       "6192  Four friends lose themselves in a carefree hol...  \n",
       "1968  Most people think that World War II started on...  \n",
       "1375  If income inequality were a sport, the residen...  \n",
       "9135  In his final role, Henry Fonda plays Norman Th...  "
      ]
     },
     "execution_count": 35,
     "metadata": {},
     "output_type": "execute_result"
    }
   ],
   "source": [
    "movies_df.sample(10)\n",
    "# sample function give RANDOM"
   ]
  },
  {
   "attachments": {},
   "cell_type": "markdown",
   "id": "0dc6e056",
   "metadata": {},
   "source": [
    "We can see that 'listed_in' column contains a single strnig for each entry.\n",
    "So we convert it in such a way that it only, contains one type in 'listed_in'\n",
    "section."
   ]
  },
  {
   "cell_type": "code",
   "execution_count": 37,
   "id": "4db4ba5e",
   "metadata": {},
   "outputs": [],
   "source": [
    "# genre = movies_df.set_index('show_id').listed_in.str.split(',', expand=True).stack().reset_index(level=1 drop=True)\n",
    "\n",
    "genre=movies_df.set_index('show_id').listed_in.str.split(',',expand=True).stack().reset_index(level=1,drop=True)"
   ]
  },
  {
   "cell_type": "code",
   "execution_count": 56,
   "id": "5d726e64",
   "metadata": {},
   "outputs": [
    {
     "data": {
      "text/plain": [
       "show_id\n",
       "s1            Comedy\n",
       "s1             Drama\n",
       "s2             Drama\n",
       "s2     International\n",
       "s3            Action\n",
       "dtype: object"
      ]
     },
     "execution_count": 56,
     "metadata": {},
     "output_type": "execute_result"
    }
   ],
   "source": [
    "genre.head()"
   ]
  },
  {
   "cell_type": "code",
   "execution_count": 62,
   "id": "965b915c",
   "metadata": {},
   "outputs": [
    {
     "data": {
      "text/plain": [
       "show_id\n",
       "s1               Comedy\n",
       "s1                Drama\n",
       "s2                Drama\n",
       "s2        International\n",
       "s3               Action\n",
       "              ...      \n",
       "s9664            Comedy\n",
       "s9666            Action\n",
       "s9668            Action\n",
       "s9668             Drama\n",
       "s9668          Suspense\n",
       "Length: 14980, dtype: object"
      ]
     },
     "execution_count": 62,
     "metadata": {},
     "output_type": "execute_result"
    }
   ],
   "source": [
    "genre"
   ]
  },
  {
   "cell_type": "code",
   "execution_count": 63,
   "id": "f72f2958",
   "metadata": {},
   "outputs": [],
   "source": [
    "genre_tv = tv_df.set_index('show_id').listed_in.str.split(',',expand=True).stack().reset_index(level=1, drop=True)"
   ]
  },
  {
   "cell_type": "code",
   "execution_count": 71,
   "id": "1ca7ebbc",
   "metadata": {},
   "outputs": [
    {
     "data": {
      "text/plain": [
       "54"
      ]
     },
     "execution_count": 71,
     "metadata": {},
     "output_type": "execute_result"
    }
   ],
   "source": [
    "len(genre_tv.unique())"
   ]
  },
  {
   "cell_type": "code",
   "execution_count": 72,
   "id": "cbd771f4",
   "metadata": {},
   "outputs": [
    {
     "data": {
      "text/plain": [
       "array(['Kids', ' Special Interest', 'Comedy', ' Talk Show and Variety',\n",
       "       'Action', ' Anime', ' Comedy', 'TV Shows', ' Drama', 'Animation',\n",
       "       ' Fantasy', ' Adventure', ' Animation', 'Anime', ' Kids', 'Drama',\n",
       "       ' Suspense', 'Fitness', 'Arts', ' Entertainment', ' and Culture',\n",
       "       ' Western', 'Documentary', ' Science Fiction', 'Adventure',\n",
       "       ' Romance', ' Unscripted', 'Unscripted', ' Military and War',\n",
       "       ' Documentary', 'Sports', ' International', 'Suspense',\n",
       "       'Special Interest', ' Sports', 'Horror', ' LGBTQ', 'Fantasy',\n",
       "       ' Horror', ' Young Adult Audience', 'International',\n",
       "       ' Music Videos and Concerts', ' Faith and Spirituality',\n",
       "       ' Historical', 'Romance', 'Science Fiction',\n",
       "       'Young Adult Audience', 'Arthouse', ' Arts',\n",
       "       'Talk Show and Variety', 'LGBTQ', 'Music Videos and Concerts',\n",
       "       'Western', 'Faith and Spirituality'], dtype=object)"
      ]
     },
     "execution_count": 72,
     "metadata": {},
     "output_type": "execute_result"
    }
   ],
   "source": [
    "genre_tv.unique()"
   ]
  },
  {
   "attachments": {},
   "cell_type": "markdown",
   "id": "abd133fe",
   "metadata": {},
   "source": [
    "Here we see that the GENRE - 'Drama' and 'Drama' have occured twice.\n",
    "So we remove one of them.."
   ]
  },
  {
   "cell_type": "code",
   "execution_count": 76,
   "id": "86347635",
   "metadata": {},
   "outputs": [
    {
     "data": {
      "text/plain": [
       "array(['Kids', ' Special Interest', 'Comedy', ' Talk Show and Variety',\n",
       "       'Action', ' Anime', ' Comedy', 'TV Shows', 'Drama', 'Animation',\n",
       "       ' Fantasy', ' Adventure', ' Animation', 'Anime', ' Kids',\n",
       "       ' Suspense', 'Fitness', 'Arts', ' Entertainment', ' and Culture',\n",
       "       ' Western', 'Documentary', ' Science Fiction', 'Adventure',\n",
       "       ' Romance', ' Unscripted', 'Unscripted', ' Military and War',\n",
       "       ' Documentary', 'Sports', ' International', 'Suspense',\n",
       "       'Special Interest', ' Sports', 'Horror', ' LGBTQ', 'Fantasy',\n",
       "       ' Horror', ' Young Adult Audience', 'International',\n",
       "       ' Music Videos and Concerts', ' Faith and Spirituality',\n",
       "       ' Historical', 'Romance', 'Science Fiction',\n",
       "       'Young Adult Audience', 'Arthouse', ' Arts',\n",
       "       'Talk Show and Variety', 'LGBTQ', 'Music Videos and Concerts',\n",
       "       'Western', 'Faith and Spirituality'], dtype=object)"
      ]
     },
     "execution_count": 76,
     "metadata": {},
     "output_type": "execute_result"
    }
   ],
   "source": [
    "genre.replace(' Drama','Drama',inplace=True)\n",
    "genre_tv.replace(' Drama','Drama',inplace=True)\n",
    "genre_tv.unique()"
   ]
  },
  {
   "cell_type": "code",
   "execution_count": 77,
   "id": "57e1d61c",
   "metadata": {},
   "outputs": [
    {
     "data": {
      "text/plain": [
       "53"
      ]
     },
     "execution_count": 77,
     "metadata": {},
     "output_type": "execute_result"
    }
   ],
   "source": [
    "len(genre_tv.unique())"
   ]
  },
  {
   "attachments": {},
   "cell_type": "markdown",
   "id": "dd12262e",
   "metadata": {},
   "source": [
    "## Plotting the Data"
   ]
  },
  {
   "cell_type": "code",
   "execution_count": 88,
   "id": "b3d9ee4d",
   "metadata": {},
   "outputs": [
    {
     "data": {
      "image/png": "[encoded data removed]",
      "text/plain": [
       "<Figure size 864x432 with 2 Axes>"
      ]
     },
     "metadata": {},
     "output_type": "display_data"
    }
   ],
   "source": [
    "expl = [0.025]*10\n",
    "fig, ax = plt.subplots(1,2,figsize=(12,6))\n",
    "ax[0].set_title('Top 10 Genres of Movies on AMAZON PRIME')\n",
    "ax[0].pie(genre.value_counts().head(10),labels=list(genre.value_counts().head(10).index)\n",
    ",explode=expl, startangle=180,autopct='%1.1f%%');\n",
    "ax[1].set_title('Top 10 Genre of TV Shows on AMZON PRIME')\n",
    "ax[1].pie(genre_tv.value_counts().head(10),labels=list(genre_tv.value_counts().head(10).index)\n",
    "         ,explode=expl, startangle=180, autopct='%1.1f%%');\n",
    "plt.tight_layout(pad=4)"
   ]
  },
  {
   "cell_type": "code",
   "execution_count": 86,
   "id": "5d06a8e6",
   "metadata": {},
   "outputs": [
    {
     "data": {
      "text/plain": [
       "<Figure size 432x288 with 0 Axes>"
      ]
     },
     "metadata": {},
     "output_type": "display_data"
    }
   ],
   "source": []
  },
  {
   "attachments": {},
   "cell_type": "markdown",
   "id": "e7d16d9e",
   "metadata": {},
   "source": [
    "Thus we can see that **DRAMA** is the most watched among both of them"
   ]
  },
  {
   "attachments": {},
   "cell_type": "markdown",
   "id": "4ebf7122",
   "metadata": {},
   "source": [
    "### Directors of Amazon Prime"
   ]
  },
  {
   "cell_type": "code",
   "execution_count": 93,
   "id": "546b5636",
   "metadata": {},
   "outputs": [
    {
     "data": {
      "image/png": "[encoded data removed]",
      "text/plain": [
       "<Figure size 432x288 with 1 Axes>"
      ]
     },
     "metadata": {
      "needs_background": "light"
     },
     "output_type": "display_data"
    }
   ],
   "source": [
    "direct_movies = movies_df[movies_df.director!='Data Unavailable'].director\n",
    "sns.countplot(y=direct_movies, order=direct_movies.value_counts().index[:10], palette='Set3');\n",
    "plt.title(\"Top 10 Amazon Prime Movie Director\");"
   ]
  },
  {
   "attachments": {},
   "cell_type": "markdown",
   "id": "b1538152",
   "metadata": {},
   "source": [
    "## Ratings of the Movies"
   ]
  },
  {
   "cell_type": "code",
   "execution_count": 95,
   "id": "9533a8de",
   "metadata": {},
   "outputs": [
    {
     "data": {
      "text/plain": [
       "array([nan, '13+', 'ALL', '18+', 'R', 'TV-Y', 'TV-Y7', 'NR', '16+',\n",
       "       'TV-PG', '7+', 'TV-14', 'TV-NR', 'TV-G', 'PG-13', 'TV-MA', 'G',\n",
       "       'PG', 'NC-17', 'UNRATED', '16', 'AGES_16_', 'AGES_18_', 'ALL_AGES',\n",
       "       'NOT_RATE'], dtype=object)"
      ]
     },
     "execution_count": 95,
     "metadata": {},
     "output_type": "execute_result"
    }
   ],
   "source": [
    "df[df!= 'Data Unavailable'].rating .unique()"
   ]
  },
  {
   "cell_type": "code",
   "execution_count": 96,
   "id": "c7f7c71f",
   "metadata": {},
   "outputs": [
    {
     "data": {
      "text/plain": [
       "<AxesSubplot:xlabel='rating', ylabel='count'>"
      ]
     },
     "execution_count": 96,
     "metadata": {},
     "output_type": "execute_result"
    },
    {
     "data": {
      "image/png": "[encoded data removed]",
      "text/plain": [
       "<Figure size 864x432 with 1 Axes>"
      ]
     },
     "metadata": {
      "needs_background": "light"
     },
     "output_type": "display_data"
    }
   ],
   "source": [
    "order =  ['G', 'TV-Y', 'TV-G', 'PG', 'TV-Y7',\n",
    "          'TV-Y7-FV', 'TV-PG', 'PG-13', 'TV-14', 'R', 'NC-17', 'TV-MA','ALL']\n",
    "plt.figure(figsize=(12,6))\n",
    "sns.countplot(x=df.rating, hue=df.type, order=order)"
   ]
  },
  {
   "cell_type": "code",
   "execution_count": 99,
   "id": "6ab4a2da",
   "metadata": {},
   "outputs": [
    {
     "data": {
      "text/plain": [
       "Text(0.5, 1.0, 'Rating of T.V Shows')"
      ]
     },
     "execution_count": 99,
     "metadata": {},
     "output_type": "execute_result"
    },
    {
     "data": {
      "image/png": "[encoded data removed]",
      "text/plain": [
       "<Figure size 1296x432 with 2 Axes>"
      ]
     },
     "metadata": {
      "needs_background": "light"
     },
     "output_type": "display_data"
    }
   ],
   "source": [
    "fig, ax = plt.subplots(1,2,figsize=(18,6))\n",
    "f1 = sns.countplot(x='rating', data=movies_df, ax=ax[0],palette='Set2', order=order)\n",
    "f1.set_title(\"Rating for Movies\")\n",
    "f1.set_xticklabels(f1.get_xticklabels(),rotation=45)\n",
    "f2 = sns.countplot(x='rating', data=tv_df, ax=ax[1], palette='Set2', order=order)\n",
    "f2.set_xticklabels(f2.get_xticklabels(),rotation=45)\n",
    "f2.set_title('Rating of T.V Shows')"
   ]
  },
  {
   "attachments": {},
   "cell_type": "markdown",
   "id": "07f77873",
   "metadata": {},
   "source": [
    "## Duration of the Content"
   ]
  },
  {
   "cell_type": "code",
   "execution_count": 101,
   "id": "6fa4e652",
   "metadata": {},
   "outputs": [
    {
     "data": {
      "text/plain": [
       "8866       83 min\n",
       "2317    2 Seasons\n",
       "7321     1 Season\n",
       "9658       87 min\n",
       "7750       72 min\n",
       "Name: duration, dtype: object"
      ]
     },
     "execution_count": 101,
     "metadata": {},
     "output_type": "execute_result"
    }
   ],
   "source": [
    "df.duration.sample(5)"
   ]
  },
  {
   "cell_type": "code",
   "execution_count": 102,
   "id": "383602e9",
   "metadata": {},
   "outputs": [
    {
     "data": {
      "text/plain": [
       "array(['113 min', '110 min', '74 min', '69 min', '45 min', '52 min',\n",
       "       '98 min', '131 min', '87 min', '92 min', '88 min', '93 min',\n",
       "       '94 min', '46 min', '96 min', '1 Season', '104 min', '62 min',\n",
       "       '50 min', '3 Seasons', '2 Seasons', '86 min', '36 min', '37 min',\n",
       "       '103 min', '9 min', '18 min', '14 min', '20 min', '19 min',\n",
       "       '22 min', '60 min', '6 min', '54 min', '5 min', '84 min',\n",
       "       '126 min', '125 min', '109 min', '89 min', '85 min', '56 min',\n",
       "       '40 min', '111 min', '33 min', '34 min', '95 min', '99 min',\n",
       "       '78 min', '4 Seasons', '77 min', '55 min', '53 min', '115 min',\n",
       "       '58 min', '49 min', '135 min', '91 min', '64 min', '59 min',\n",
       "       '48 min', '122 min', '90 min', '102 min', '65 min', '114 min',\n",
       "       '136 min', '70 min', '138 min', '100 min', '480 min', '4 min',\n",
       "       '30 min', '152 min', '68 min', '57 min', '7 Seasons', '31 min',\n",
       "       '151 min', '149 min', '9 Seasons', '141 min', '121 min', '79 min',\n",
       "       '140 min', '51 min', '106 min', '75 min', '27 min', '107 min',\n",
       "       '108 min', '38 min', '157 min', '43 min', '118 min', '139 min',\n",
       "       '6 Seasons', '112 min', '15 min', '72 min', '5 Seasons', '116 min',\n",
       "       '142 min', '71 min', '42 min', '81 min', '32 min', '66 min',\n",
       "       '127 min', '159 min', '67 min', '29 min', '132 min', '101 min',\n",
       "       '164 min', '73 min', '61 min', '80 min', '83 min', '44 min',\n",
       "       '120 min', '26 min', '97 min', '23 min', '105 min', '82 min',\n",
       "       '11 min', '148 min', '161 min', '123 min', '29 Seasons', '0 min',\n",
       "       '124 min', '143 min', '35 min', '47 min', '170 min', '19 Seasons',\n",
       "       '3 min', '146 min', '601 min', '24 min', '21 Seasons', '154 min',\n",
       "       '128 min', '133 min', '153 min', '119 min', '63 min', '169 min',\n",
       "       '174 min', '144 min', '7 min', '137 min', '76 min', '39 min',\n",
       "       '8 Seasons', '12 Seasons', '134 min', '163 min', '1 min',\n",
       "       '145 min', '162 min', '41 min', '147 min', '155 min', '117 min',\n",
       "       '167 min', '11 Seasons', '28 min', '25 min', '180 min', '2 min',\n",
       "       '541 min', '240 min', '129 min', '178 min', '171 min', '21 min',\n",
       "       '172 min', '173 min', '10 min', '166 min', '160 min', '130 min',\n",
       "       '479 min', '13 min', '8 min', '10 Seasons', '17 min', '16 min',\n",
       "       '158 min', '183 min', '12 min', '14 Seasons', '150 min', '481 min',\n",
       "       '181 min', '156 min', '540 min', '177 min', '550 min', '485 min',\n",
       "       '176 min', '193 min', '165 min', '175 min', '188 min', '187 min',\n",
       "       '168 min', '190 min', '185 min', '209 min', '192 min', '182 min',\n",
       "       '207 min', '269 min', '15 Seasons', '191 min'], dtype=object)"
      ]
     },
     "execution_count": 102,
     "metadata": {},
     "output_type": "execute_result"
    }
   ],
   "source": [
    "df.duration.unique()"
   ]
  },
  {
   "attachments": {},
   "cell_type": "markdown",
   "id": "16653f68",
   "metadata": {},
   "source": [
    "We can see that the Duration of the movie is given in mins, so we change it to relevant integer values"
   ]
  },
  {
   "cell_type": "code",
   "execution_count": 119,
   "id": "e91756a5",
   "metadata": {},
   "outputs": [
    {
     "ename": "AttributeError",
     "evalue": "Can only use .str accessor with string values!",
     "output_type": "error",
     "traceback": [
      "\u001b[1;31m---------------------------------------------------------------------------\u001b[0m",
      "\u001b[1;31mAttributeError\u001b[0m                            Traceback (most recent call last)",
      "\u001b[1;32m<ipython-input-119-c6975471d14b>\u001b[0m in \u001b[0;36m<module>\u001b[1;34m\u001b[0m\n\u001b[1;32m----> 1\u001b[1;33m \u001b[0mmovies_df\u001b[0m\u001b[1;33m.\u001b[0m\u001b[0mduration\u001b[0m \u001b[1;33m=\u001b[0m \u001b[0mmovies_df\u001b[0m\u001b[1;33m.\u001b[0m\u001b[0mduration\u001b[0m\u001b[1;33m.\u001b[0m\u001b[0mstr\u001b[0m\u001b[1;33m.\u001b[0m\u001b[0mreplace\u001b[0m\u001b[1;33m(\u001b[0m\u001b[1;34m''\u001b[0m\u001b[1;33m,\u001b[0m\u001b[1;34m''\u001b[0m\u001b[1;33m)\u001b[0m\u001b[1;33m.\u001b[0m\u001b[0mastype\u001b[0m\u001b[1;33m(\u001b[0m\u001b[0mint\u001b[0m\u001b[1;33m)\u001b[0m\u001b[1;33m\u001b[0m\u001b[1;33m\u001b[0m\u001b[0m\n\u001b[0m\u001b[0;32m      2\u001b[0m \u001b[0mdf\u001b[0m\u001b[1;33m[\u001b[0m\u001b[1;34m'duration'\u001b[0m\u001b[1;33m]\u001b[0m\u001b[1;33m.\u001b[0m\u001b[0mdtype\u001b[0m\u001b[1;33m\u001b[0m\u001b[1;33m\u001b[0m\u001b[0m\n",
      "\u001b[1;32m~\\anaconda3\\lib\\site-packages\\pandas\\core\\generic.py\u001b[0m in \u001b[0;36m__getattr__\u001b[1;34m(self, name)\u001b[0m\n\u001b[0;32m   5459\u001b[0m             \u001b[1;32mor\u001b[0m \u001b[0mname\u001b[0m \u001b[1;32min\u001b[0m \u001b[0mself\u001b[0m\u001b[1;33m.\u001b[0m\u001b[0m_accessors\u001b[0m\u001b[1;33m\u001b[0m\u001b[1;33m\u001b[0m\u001b[0m\n\u001b[0;32m   5460\u001b[0m         ):\n\u001b[1;32m-> 5461\u001b[1;33m             \u001b[1;32mreturn\u001b[0m \u001b[0mobject\u001b[0m\u001b[1;33m.\u001b[0m\u001b[0m__getattribute__\u001b[0m\u001b[1;33m(\u001b[0m\u001b[0mself\u001b[0m\u001b[1;33m,\u001b[0m \u001b[0mname\u001b[0m\u001b[1;33m)\u001b[0m\u001b[1;33m\u001b[0m\u001b[1;33m\u001b[0m\u001b[0m\n\u001b[0m\u001b[0;32m   5462\u001b[0m         \u001b[1;32melse\u001b[0m\u001b[1;33m:\u001b[0m\u001b[1;33m\u001b[0m\u001b[1;33m\u001b[0m\u001b[0m\n\u001b[0;32m   5463\u001b[0m             \u001b[1;32mif\u001b[0m \u001b[0mself\u001b[0m\u001b[1;33m.\u001b[0m\u001b[0m_info_axis\u001b[0m\u001b[1;33m.\u001b[0m\u001b[0m_can_hold_identifiers_and_holds_name\u001b[0m\u001b[1;33m(\u001b[0m\u001b[0mname\u001b[0m\u001b[1;33m)\u001b[0m\u001b[1;33m:\u001b[0m\u001b[1;33m\u001b[0m\u001b[1;33m\u001b[0m\u001b[0m\n",
      "\u001b[1;32m~\\anaconda3\\lib\\site-packages\\pandas\\core\\accessor.py\u001b[0m in \u001b[0;36m__get__\u001b[1;34m(self, obj, cls)\u001b[0m\n\u001b[0;32m    178\u001b[0m             \u001b[1;31m# we're accessing the attribute of the class, i.e., Dataset.geo\u001b[0m\u001b[1;33m\u001b[0m\u001b[1;33m\u001b[0m\u001b[1;33m\u001b[0m\u001b[0m\n\u001b[0;32m    179\u001b[0m             \u001b[1;32mreturn\u001b[0m \u001b[0mself\u001b[0m\u001b[1;33m.\u001b[0m\u001b[0m_accessor\u001b[0m\u001b[1;33m\u001b[0m\u001b[1;33m\u001b[0m\u001b[0m\n\u001b[1;32m--> 180\u001b[1;33m         \u001b[0maccessor_obj\u001b[0m \u001b[1;33m=\u001b[0m \u001b[0mself\u001b[0m\u001b[1;33m.\u001b[0m\u001b[0m_accessor\u001b[0m\u001b[1;33m(\u001b[0m\u001b[0mobj\u001b[0m\u001b[1;33m)\u001b[0m\u001b[1;33m\u001b[0m\u001b[1;33m\u001b[0m\u001b[0m\n\u001b[0m\u001b[0;32m    181\u001b[0m         \u001b[1;31m# Replace the property with the accessor object. Inspired by:\u001b[0m\u001b[1;33m\u001b[0m\u001b[1;33m\u001b[0m\u001b[1;33m\u001b[0m\u001b[0m\n\u001b[0;32m    182\u001b[0m         \u001b[1;31m# https://www.pydanny.com/cached-property.html\u001b[0m\u001b[1;33m\u001b[0m\u001b[1;33m\u001b[0m\u001b[1;33m\u001b[0m\u001b[0m\n",
      "\u001b[1;32m~\\anaconda3\\lib\\site-packages\\pandas\\core\\strings\\accessor.py\u001b[0m in \u001b[0;36m__init__\u001b[1;34m(self, data)\u001b[0m\n\u001b[0;32m    152\u001b[0m         \u001b[1;32mfrom\u001b[0m \u001b[0mpandas\u001b[0m\u001b[1;33m.\u001b[0m\u001b[0mcore\u001b[0m\u001b[1;33m.\u001b[0m\u001b[0marrays\u001b[0m\u001b[1;33m.\u001b[0m\u001b[0mstring_\u001b[0m \u001b[1;32mimport\u001b[0m \u001b[0mStringDtype\u001b[0m\u001b[1;33m\u001b[0m\u001b[1;33m\u001b[0m\u001b[0m\n\u001b[0;32m    153\u001b[0m \u001b[1;33m\u001b[0m\u001b[0m\n\u001b[1;32m--> 154\u001b[1;33m         \u001b[0mself\u001b[0m\u001b[1;33m.\u001b[0m\u001b[0m_inferred_dtype\u001b[0m \u001b[1;33m=\u001b[0m \u001b[0mself\u001b[0m\u001b[1;33m.\u001b[0m\u001b[0m_validate\u001b[0m\u001b[1;33m(\u001b[0m\u001b[0mdata\u001b[0m\u001b[1;33m)\u001b[0m\u001b[1;33m\u001b[0m\u001b[1;33m\u001b[0m\u001b[0m\n\u001b[0m\u001b[0;32m    155\u001b[0m         \u001b[0mself\u001b[0m\u001b[1;33m.\u001b[0m\u001b[0m_is_categorical\u001b[0m \u001b[1;33m=\u001b[0m \u001b[0mis_categorical_dtype\u001b[0m\u001b[1;33m(\u001b[0m\u001b[0mdata\u001b[0m\u001b[1;33m.\u001b[0m\u001b[0mdtype\u001b[0m\u001b[1;33m)\u001b[0m\u001b[1;33m\u001b[0m\u001b[1;33m\u001b[0m\u001b[0m\n\u001b[0;32m    156\u001b[0m         \u001b[0mself\u001b[0m\u001b[1;33m.\u001b[0m\u001b[0m_is_string\u001b[0m \u001b[1;33m=\u001b[0m \u001b[0misinstance\u001b[0m\u001b[1;33m(\u001b[0m\u001b[0mdata\u001b[0m\u001b[1;33m.\u001b[0m\u001b[0mdtype\u001b[0m\u001b[1;33m,\u001b[0m \u001b[0mStringDtype\u001b[0m\u001b[1;33m)\u001b[0m\u001b[1;33m\u001b[0m\u001b[1;33m\u001b[0m\u001b[0m\n",
      "\u001b[1;32m~\\anaconda3\\lib\\site-packages\\pandas\\core\\strings\\accessor.py\u001b[0m in \u001b[0;36m_validate\u001b[1;34m(data)\u001b[0m\n\u001b[0;32m    215\u001b[0m \u001b[1;33m\u001b[0m\u001b[0m\n\u001b[0;32m    216\u001b[0m         \u001b[1;32mif\u001b[0m \u001b[0minferred_dtype\u001b[0m \u001b[1;32mnot\u001b[0m \u001b[1;32min\u001b[0m \u001b[0mallowed_types\u001b[0m\u001b[1;33m:\u001b[0m\u001b[1;33m\u001b[0m\u001b[1;33m\u001b[0m\u001b[0m\n\u001b[1;32m--> 217\u001b[1;33m             \u001b[1;32mraise\u001b[0m \u001b[0mAttributeError\u001b[0m\u001b[1;33m(\u001b[0m\u001b[1;34m\"Can only use .str accessor with string values!\"\u001b[0m\u001b[1;33m)\u001b[0m\u001b[1;33m\u001b[0m\u001b[1;33m\u001b[0m\u001b[0m\n\u001b[0m\u001b[0;32m    218\u001b[0m         \u001b[1;32mreturn\u001b[0m \u001b[0minferred_dtype\u001b[0m\u001b[1;33m\u001b[0m\u001b[1;33m\u001b[0m\u001b[0m\n\u001b[0;32m    219\u001b[0m \u001b[1;33m\u001b[0m\u001b[0m\n",
      "\u001b[1;31mAttributeError\u001b[0m: Can only use .str accessor with string values!"
     ]
    }
   ],
   "source": [
    "movies_df.duration = movies_df.duration.str.replace('','').astype(int)"
   ]
  },
  {
   "cell_type": "code",
   "execution_count": 122,
   "id": "d9c3d529",
   "metadata": {},
   "outputs": [
    {
     "data": {
      "text/plain": [
       "dtype('O')"
      ]
     },
     "execution_count": 122,
     "metadata": {},
     "output_type": "execute_result"
    }
   ],
   "source": [
    "df['duration'].dtype"
   ]
  },
  {
   "cell_type": "code",
   "execution_count": 109,
   "id": "46ebac71",
   "metadata": {},
   "outputs": [
    {
     "data": {
      "text/html": [
       "<div>\n",
       "<style scoped>\n",
       "    .dataframe tbody tr th:only-of-type {\n",
       "        vertical-align: middle;\n",
       "    }\n",
       "\n",
       "    .dataframe tbody tr th {\n",
       "        vertical-align: top;\n",
       "    }\n",
       "\n",
       "    .dataframe thead th {\n",
       "        text-align: right;\n",
       "    }\n",
       "</style>\n",
       "<table border=\"1\" class=\"dataframe\">\n",
       "  <thead>\n",
       "    <tr style=\"text-align: right;\">\n",
       "      <th></th>\n",
       "      <th>show_id</th>\n",
       "      <th>type</th>\n",
       "      <th>title</th>\n",
       "      <th>director</th>\n",
       "      <th>cast</th>\n",
       "      <th>country</th>\n",
       "      <th>date_added</th>\n",
       "      <th>release_year</th>\n",
       "      <th>rating</th>\n",
       "      <th>duration</th>\n",
       "      <th>listed_in</th>\n",
       "      <th>description</th>\n",
       "    </tr>\n",
       "  </thead>\n",
       "  <tbody>\n",
       "    <tr>\n",
       "      <th>0</th>\n",
       "      <td>s1</td>\n",
       "      <td>Movie</td>\n",
       "      <td>The Grand Seduction</td>\n",
       "      <td>Don McKellar</td>\n",
       "      <td>Brendan Gleeson, Taylor Kitsch, Gordon Pinsent</td>\n",
       "      <td>Canada</td>\n",
       "      <td>March 30, 2021</td>\n",
       "      <td>2014</td>\n",
       "      <td>Data Unavailable</td>\n",
       "      <td>113</td>\n",
       "      <td>Comedy, Drama</td>\n",
       "      <td>A small fishing village must procure a local d...</td>\n",
       "    </tr>\n",
       "    <tr>\n",
       "      <th>1</th>\n",
       "      <td>s2</td>\n",
       "      <td>Movie</td>\n",
       "      <td>Take Care Good Night</td>\n",
       "      <td>Girish Joshi</td>\n",
       "      <td>Mahesh Manjrekar, Abhay Mahajan, Sachin Khedekar</td>\n",
       "      <td>India</td>\n",
       "      <td>March 30, 2021</td>\n",
       "      <td>2018</td>\n",
       "      <td>13+</td>\n",
       "      <td>110</td>\n",
       "      <td>Drama, International</td>\n",
       "      <td>A Metro Family decides to fight a Cyber Crimin...</td>\n",
       "    </tr>\n",
       "    <tr>\n",
       "      <th>2</th>\n",
       "      <td>s3</td>\n",
       "      <td>Movie</td>\n",
       "      <td>Secrets of Deception</td>\n",
       "      <td>Josh Webber</td>\n",
       "      <td>Tom Sizemore, Lorenzo Lamas, Robert LaSardo, R...</td>\n",
       "      <td>United States</td>\n",
       "      <td>March 30, 2021</td>\n",
       "      <td>2017</td>\n",
       "      <td>Data Unavailable</td>\n",
       "      <td>74</td>\n",
       "      <td>Action, Drama, Suspense</td>\n",
       "      <td>After a man discovers his wife is cheating on ...</td>\n",
       "    </tr>\n",
       "    <tr>\n",
       "      <th>3</th>\n",
       "      <td>s4</td>\n",
       "      <td>Movie</td>\n",
       "      <td>Pink: Staying True</td>\n",
       "      <td>Sonia Anderson</td>\n",
       "      <td>Interviews with: Pink, Adele, Beyoncé, Britney...</td>\n",
       "      <td>United States</td>\n",
       "      <td>March 30, 2021</td>\n",
       "      <td>2014</td>\n",
       "      <td>Data Unavailable</td>\n",
       "      <td>69</td>\n",
       "      <td>Documentary</td>\n",
       "      <td>Pink breaks the mold once again, bringing her ...</td>\n",
       "    </tr>\n",
       "    <tr>\n",
       "      <th>4</th>\n",
       "      <td>s5</td>\n",
       "      <td>Movie</td>\n",
       "      <td>Monster Maker</td>\n",
       "      <td>Giles Foster</td>\n",
       "      <td>Harry Dean Stanton, Kieran O'Brien, George Cos...</td>\n",
       "      <td>United Kingdom</td>\n",
       "      <td>March 30, 2021</td>\n",
       "      <td>1989</td>\n",
       "      <td>Data Unavailable</td>\n",
       "      <td>45</td>\n",
       "      <td>Drama, Fantasy</td>\n",
       "      <td>Teenage Matt Banting wants to work with a famo...</td>\n",
       "    </tr>\n",
       "    <tr>\n",
       "      <th>...</th>\n",
       "      <td>...</td>\n",
       "      <td>...</td>\n",
       "      <td>...</td>\n",
       "      <td>...</td>\n",
       "      <td>...</td>\n",
       "      <td>...</td>\n",
       "      <td>...</td>\n",
       "      <td>...</td>\n",
       "      <td>...</td>\n",
       "      <td>...</td>\n",
       "      <td>...</td>\n",
       "      <td>...</td>\n",
       "    </tr>\n",
       "    <tr>\n",
       "      <th>9660</th>\n",
       "      <td>s9661</td>\n",
       "      <td>Movie</td>\n",
       "      <td>The Man in the Hat</td>\n",
       "      <td>John-Paul Davidson, Stephen Warbeck</td>\n",
       "      <td>Ciaran Hinds, Stephen Dillane, Maïwenn</td>\n",
       "      <td>Data Unavailable</td>\n",
       "      <td>Data Unavailable</td>\n",
       "      <td>2021</td>\n",
       "      <td>13+</td>\n",
       "      <td>96</td>\n",
       "      <td>Comedy</td>\n",
       "      <td>The Man in the Hat journeys through France in ...</td>\n",
       "    </tr>\n",
       "    <tr>\n",
       "      <th>9662</th>\n",
       "      <td>s9663</td>\n",
       "      <td>Movie</td>\n",
       "      <td>River</td>\n",
       "      <td>Emily Skye</td>\n",
       "      <td>Mary Cameron Rogers, Alexandra Rose, Rob Marsh...</td>\n",
       "      <td>Data Unavailable</td>\n",
       "      <td>Data Unavailable</td>\n",
       "      <td>2021</td>\n",
       "      <td>16+</td>\n",
       "      <td>93</td>\n",
       "      <td>Drama, Science Fiction, Suspense</td>\n",
       "      <td>River is a grounded Sci-Fi mystery Thriller, t...</td>\n",
       "    </tr>\n",
       "    <tr>\n",
       "      <th>9663</th>\n",
       "      <td>s9664</td>\n",
       "      <td>Movie</td>\n",
       "      <td>Pride Of The Bowery</td>\n",
       "      <td>Joseph H. Lewis</td>\n",
       "      <td>Leo Gorcey, Bobby Jordan</td>\n",
       "      <td>Data Unavailable</td>\n",
       "      <td>Data Unavailable</td>\n",
       "      <td>1940</td>\n",
       "      <td>7+</td>\n",
       "      <td>60</td>\n",
       "      <td>Comedy</td>\n",
       "      <td>New York City street principles get an East Si...</td>\n",
       "    </tr>\n",
       "    <tr>\n",
       "      <th>9665</th>\n",
       "      <td>s9666</td>\n",
       "      <td>Movie</td>\n",
       "      <td>Outpost</td>\n",
       "      <td>Steve Barker</td>\n",
       "      <td>Ray Stevenson, Julian Wadham, Richard Brake, M...</td>\n",
       "      <td>Data Unavailable</td>\n",
       "      <td>Data Unavailable</td>\n",
       "      <td>2008</td>\n",
       "      <td>R</td>\n",
       "      <td>90</td>\n",
       "      <td>Action</td>\n",
       "      <td>In war-torn Eastern Europe, a world-weary grou...</td>\n",
       "    </tr>\n",
       "    <tr>\n",
       "      <th>9667</th>\n",
       "      <td>s9668</td>\n",
       "      <td>Movie</td>\n",
       "      <td>Harry Brown</td>\n",
       "      <td>Daniel Barber</td>\n",
       "      <td>Michael Caine, Emily Mortimer, Joseph Gilgun, ...</td>\n",
       "      <td>Data Unavailable</td>\n",
       "      <td>Data Unavailable</td>\n",
       "      <td>2010</td>\n",
       "      <td>R</td>\n",
       "      <td>103</td>\n",
       "      <td>Action, Drama, Suspense</td>\n",
       "      <td>Harry Brown, starring two-time Academy Award w...</td>\n",
       "    </tr>\n",
       "  </tbody>\n",
       "</table>\n",
       "<p>7814 rows × 12 columns</p>\n",
       "</div>"
      ],
      "text/plain": [
       "     show_id   type                 title  \\\n",
       "0         s1  Movie   The Grand Seduction   \n",
       "1         s2  Movie  Take Care Good Night   \n",
       "2         s3  Movie  Secrets of Deception   \n",
       "3         s4  Movie    Pink: Staying True   \n",
       "4         s5  Movie         Monster Maker   \n",
       "...      ...    ...                   ...   \n",
       "9660   s9661  Movie    The Man in the Hat   \n",
       "9662   s9663  Movie                 River   \n",
       "9663   s9664  Movie   Pride Of The Bowery   \n",
       "9665   s9666  Movie               Outpost   \n",
       "9667   s9668  Movie           Harry Brown   \n",
       "\n",
       "                                 director  \\\n",
       "0                            Don McKellar   \n",
       "1                            Girish Joshi   \n",
       "2                             Josh Webber   \n",
       "3                          Sonia Anderson   \n",
       "4                            Giles Foster   \n",
       "...                                   ...   \n",
       "9660  John-Paul Davidson, Stephen Warbeck   \n",
       "9662                           Emily Skye   \n",
       "9663                      Joseph H. Lewis   \n",
       "9665                         Steve Barker   \n",
       "9667                        Daniel Barber   \n",
       "\n",
       "                                                   cast           country  \\\n",
       "0        Brendan Gleeson, Taylor Kitsch, Gordon Pinsent            Canada   \n",
       "1      Mahesh Manjrekar, Abhay Mahajan, Sachin Khedekar             India   \n",
       "2     Tom Sizemore, Lorenzo Lamas, Robert LaSardo, R...     United States   \n",
       "3     Interviews with: Pink, Adele, Beyoncé, Britney...     United States   \n",
       "4     Harry Dean Stanton, Kieran O'Brien, George Cos...    United Kingdom   \n",
       "...                                                 ...               ...   \n",
       "9660             Ciaran Hinds, Stephen Dillane, Maïwenn  Data Unavailable   \n",
       "9662  Mary Cameron Rogers, Alexandra Rose, Rob Marsh...  Data Unavailable   \n",
       "9663                           Leo Gorcey, Bobby Jordan  Data Unavailable   \n",
       "9665  Ray Stevenson, Julian Wadham, Richard Brake, M...  Data Unavailable   \n",
       "9667  Michael Caine, Emily Mortimer, Joseph Gilgun, ...  Data Unavailable   \n",
       "\n",
       "            date_added  release_year            rating  duration  \\\n",
       "0       March 30, 2021          2014  Data Unavailable       113   \n",
       "1       March 30, 2021          2018               13+       110   \n",
       "2       March 30, 2021          2017  Data Unavailable        74   \n",
       "3       March 30, 2021          2014  Data Unavailable        69   \n",
       "4       March 30, 2021          1989  Data Unavailable        45   \n",
       "...                ...           ...               ...       ...   \n",
       "9660  Data Unavailable          2021               13+        96   \n",
       "9662  Data Unavailable          2021               16+        93   \n",
       "9663  Data Unavailable          1940                7+        60   \n",
       "9665  Data Unavailable          2008                 R        90   \n",
       "9667  Data Unavailable          2010                 R       103   \n",
       "\n",
       "                             listed_in  \\\n",
       "0                        Comedy, Drama   \n",
       "1                 Drama, International   \n",
       "2              Action, Drama, Suspense   \n",
       "3                          Documentary   \n",
       "4                       Drama, Fantasy   \n",
       "...                                ...   \n",
       "9660                            Comedy   \n",
       "9662  Drama, Science Fiction, Suspense   \n",
       "9663                            Comedy   \n",
       "9665                            Action   \n",
       "9667           Action, Drama, Suspense   \n",
       "\n",
       "                                            description  \n",
       "0     A small fishing village must procure a local d...  \n",
       "1     A Metro Family decides to fight a Cyber Crimin...  \n",
       "2     After a man discovers his wife is cheating on ...  \n",
       "3     Pink breaks the mold once again, bringing her ...  \n",
       "4     Teenage Matt Banting wants to work with a famo...  \n",
       "...                                                 ...  \n",
       "9660  The Man in the Hat journeys through France in ...  \n",
       "9662  River is a grounded Sci-Fi mystery Thriller, t...  \n",
       "9663  New York City street principles get an East Si...  \n",
       "9665  In war-torn Eastern Europe, a world-weary grou...  \n",
       "9667  Harry Brown, starring two-time Academy Award w...  \n",
       "\n",
       "[7814 rows x 12 columns]"
      ]
     },
     "execution_count": 109,
     "metadata": {},
     "output_type": "execute_result"
    }
   ],
   "source": [
    " movies_df"
   ]
  },
  {
   "cell_type": "code",
   "execution_count": 115,
   "id": "d58c6dd9",
   "metadata": {
    "scrolled": true
   },
   "outputs": [
    {
     "data": {
      "text/plain": [
       "0       113\n",
       "1       110\n",
       "2        74\n",
       "3        69\n",
       "4        45\n",
       "       ... \n",
       "9660     96\n",
       "9662     93\n",
       "9663     60\n",
       "9665     90\n",
       "9667    103\n",
       "Name: duration, Length: 7814, dtype: int32"
      ]
     },
     "execution_count": 115,
     "metadata": {},
     "output_type": "execute_result"
    }
   ],
   "source": [
    "movies_df.duration"
   ]
  },
  {
   "cell_type": "code",
   "execution_count": 114,
   "id": "8ac3ea46",
   "metadata": {},
   "outputs": [
    {
     "ename": "ValueError",
     "evalue": "invalid literal for int() with base 10: '113 min'",
     "output_type": "error",
     "traceback": [
      "\u001b[1;31m---------------------------------------------------------------------------\u001b[0m",
      "\u001b[1;31mValueError\u001b[0m                                Traceback (most recent call last)",
      "\u001b[1;32m<ipython-input-114-123c0d65e033>\u001b[0m in \u001b[0;36m<module>\u001b[1;34m\u001b[0m\n\u001b[0;32m      1\u001b[0m \u001b[0mdf\u001b[0m\u001b[1;33m.\u001b[0m\u001b[0mreplace\u001b[0m\u001b[1;33m(\u001b[0m\u001b[1;33m{\u001b[0m\u001b[1;34m'duration'\u001b[0m\u001b[1;33m:\u001b[0m\u001b[1;33m{\u001b[0m\u001b[1;34m'1 Season'\u001b[0m\u001b[1;33m:\u001b[0m\u001b[1;34m'1 Seasons'\u001b[0m\u001b[1;33m}\u001b[0m\u001b[1;33m}\u001b[0m\u001b[1;33m,\u001b[0m\u001b[0minplace\u001b[0m\u001b[1;33m=\u001b[0m\u001b[1;32mTrue\u001b[0m\u001b[1;33m)\u001b[0m\u001b[1;33m\u001b[0m\u001b[1;33m\u001b[0m\u001b[0m\n\u001b[1;32m----> 2\u001b[1;33m \u001b[0mdf\u001b[0m\u001b[1;33m.\u001b[0m\u001b[0mduration\u001b[0m\u001b[1;33m=\u001b[0m\u001b[0mdf\u001b[0m\u001b[1;33m.\u001b[0m\u001b[0mduration\u001b[0m\u001b[1;33m.\u001b[0m\u001b[0mstr\u001b[0m\u001b[1;33m.\u001b[0m\u001b[0mreplace\u001b[0m\u001b[1;33m(\u001b[0m\u001b[1;34m' Seasons'\u001b[0m\u001b[1;33m,\u001b[0m\u001b[1;34m''\u001b[0m\u001b[1;33m)\u001b[0m\u001b[1;33m.\u001b[0m\u001b[0mastype\u001b[0m\u001b[1;33m(\u001b[0m\u001b[0mint\u001b[0m\u001b[1;33m)\u001b[0m\u001b[1;33m\u001b[0m\u001b[1;33m\u001b[0m\u001b[0m\n\u001b[0m",
      "\u001b[1;32m~\\anaconda3\\lib\\site-packages\\pandas\\core\\generic.py\u001b[0m in \u001b[0;36mastype\u001b[1;34m(self, dtype, copy, errors)\u001b[0m\n\u001b[0;32m   5875\u001b[0m         \u001b[1;32melse\u001b[0m\u001b[1;33m:\u001b[0m\u001b[1;33m\u001b[0m\u001b[1;33m\u001b[0m\u001b[0m\n\u001b[0;32m   5876\u001b[0m             \u001b[1;31m# else, only a single dtype is given\u001b[0m\u001b[1;33m\u001b[0m\u001b[1;33m\u001b[0m\u001b[1;33m\u001b[0m\u001b[0m\n\u001b[1;32m-> 5877\u001b[1;33m             \u001b[0mnew_data\u001b[0m \u001b[1;33m=\u001b[0m \u001b[0mself\u001b[0m\u001b[1;33m.\u001b[0m\u001b[0m_mgr\u001b[0m\u001b[1;33m.\u001b[0m\u001b[0mastype\u001b[0m\u001b[1;33m(\u001b[0m\u001b[0mdtype\u001b[0m\u001b[1;33m=\u001b[0m\u001b[0mdtype\u001b[0m\u001b[1;33m,\u001b[0m \u001b[0mcopy\u001b[0m\u001b[1;33m=\u001b[0m\u001b[0mcopy\u001b[0m\u001b[1;33m,\u001b[0m \u001b[0merrors\u001b[0m\u001b[1;33m=\u001b[0m\u001b[0merrors\u001b[0m\u001b[1;33m)\u001b[0m\u001b[1;33m\u001b[0m\u001b[1;33m\u001b[0m\u001b[0m\n\u001b[0m\u001b[0;32m   5878\u001b[0m             \u001b[1;32mreturn\u001b[0m \u001b[0mself\u001b[0m\u001b[1;33m.\u001b[0m\u001b[0m_constructor\u001b[0m\u001b[1;33m(\u001b[0m\u001b[0mnew_data\u001b[0m\u001b[1;33m)\u001b[0m\u001b[1;33m.\u001b[0m\u001b[0m__finalize__\u001b[0m\u001b[1;33m(\u001b[0m\u001b[0mself\u001b[0m\u001b[1;33m,\u001b[0m \u001b[0mmethod\u001b[0m\u001b[1;33m=\u001b[0m\u001b[1;34m\"astype\"\u001b[0m\u001b[1;33m)\u001b[0m\u001b[1;33m\u001b[0m\u001b[1;33m\u001b[0m\u001b[0m\n\u001b[0;32m   5879\u001b[0m \u001b[1;33m\u001b[0m\u001b[0m\n",
      "\u001b[1;32m~\\anaconda3\\lib\\site-packages\\pandas\\core\\internals\\managers.py\u001b[0m in \u001b[0;36mastype\u001b[1;34m(self, dtype, copy, errors)\u001b[0m\n\u001b[0;32m    629\u001b[0m         \u001b[0mself\u001b[0m\u001b[1;33m,\u001b[0m \u001b[0mdtype\u001b[0m\u001b[1;33m,\u001b[0m \u001b[0mcopy\u001b[0m\u001b[1;33m:\u001b[0m \u001b[0mbool\u001b[0m \u001b[1;33m=\u001b[0m \u001b[1;32mFalse\u001b[0m\u001b[1;33m,\u001b[0m \u001b[0merrors\u001b[0m\u001b[1;33m:\u001b[0m \u001b[0mstr\u001b[0m \u001b[1;33m=\u001b[0m \u001b[1;34m\"raise\"\u001b[0m\u001b[1;33m\u001b[0m\u001b[1;33m\u001b[0m\u001b[0m\n\u001b[0;32m    630\u001b[0m     ) -> \"BlockManager\":\n\u001b[1;32m--> 631\u001b[1;33m         \u001b[1;32mreturn\u001b[0m \u001b[0mself\u001b[0m\u001b[1;33m.\u001b[0m\u001b[0mapply\u001b[0m\u001b[1;33m(\u001b[0m\u001b[1;34m\"astype\"\u001b[0m\u001b[1;33m,\u001b[0m \u001b[0mdtype\u001b[0m\u001b[1;33m=\u001b[0m\u001b[0mdtype\u001b[0m\u001b[1;33m,\u001b[0m \u001b[0mcopy\u001b[0m\u001b[1;33m=\u001b[0m\u001b[0mcopy\u001b[0m\u001b[1;33m,\u001b[0m \u001b[0merrors\u001b[0m\u001b[1;33m=\u001b[0m\u001b[0merrors\u001b[0m\u001b[1;33m)\u001b[0m\u001b[1;33m\u001b[0m\u001b[1;33m\u001b[0m\u001b[0m\n\u001b[0m\u001b[0;32m    632\u001b[0m \u001b[1;33m\u001b[0m\u001b[0m\n\u001b[0;32m    633\u001b[0m     def convert(\n",
      "\u001b[1;32m~\\anaconda3\\lib\\site-packages\\pandas\\core\\internals\\managers.py\u001b[0m in \u001b[0;36mapply\u001b[1;34m(self, f, align_keys, ignore_failures, **kwargs)\u001b[0m\n\u001b[0;32m    425\u001b[0m                     \u001b[0mapplied\u001b[0m \u001b[1;33m=\u001b[0m \u001b[0mb\u001b[0m\u001b[1;33m.\u001b[0m\u001b[0mapply\u001b[0m\u001b[1;33m(\u001b[0m\u001b[0mf\u001b[0m\u001b[1;33m,\u001b[0m \u001b[1;33m**\u001b[0m\u001b[0mkwargs\u001b[0m\u001b[1;33m)\u001b[0m\u001b[1;33m\u001b[0m\u001b[1;33m\u001b[0m\u001b[0m\n\u001b[0;32m    426\u001b[0m                 \u001b[1;32melse\u001b[0m\u001b[1;33m:\u001b[0m\u001b[1;33m\u001b[0m\u001b[1;33m\u001b[0m\u001b[0m\n\u001b[1;32m--> 427\u001b[1;33m                     \u001b[0mapplied\u001b[0m \u001b[1;33m=\u001b[0m \u001b[0mgetattr\u001b[0m\u001b[1;33m(\u001b[0m\u001b[0mb\u001b[0m\u001b[1;33m,\u001b[0m \u001b[0mf\u001b[0m\u001b[1;33m)\u001b[0m\u001b[1;33m(\u001b[0m\u001b[1;33m**\u001b[0m\u001b[0mkwargs\u001b[0m\u001b[1;33m)\u001b[0m\u001b[1;33m\u001b[0m\u001b[1;33m\u001b[0m\u001b[0m\n\u001b[0m\u001b[0;32m    428\u001b[0m             \u001b[1;32mexcept\u001b[0m \u001b[1;33m(\u001b[0m\u001b[0mTypeError\u001b[0m\u001b[1;33m,\u001b[0m \u001b[0mNotImplementedError\u001b[0m\u001b[1;33m)\u001b[0m\u001b[1;33m:\u001b[0m\u001b[1;33m\u001b[0m\u001b[1;33m\u001b[0m\u001b[0m\n\u001b[0;32m    429\u001b[0m                 \u001b[1;32mif\u001b[0m \u001b[1;32mnot\u001b[0m \u001b[0mignore_failures\u001b[0m\u001b[1;33m:\u001b[0m\u001b[1;33m\u001b[0m\u001b[1;33m\u001b[0m\u001b[0m\n",
      "\u001b[1;32m~\\anaconda3\\lib\\site-packages\\pandas\\core\\internals\\blocks.py\u001b[0m in \u001b[0;36mastype\u001b[1;34m(self, dtype, copy, errors)\u001b[0m\n\u001b[0;32m    671\u001b[0m             \u001b[0mvals1d\u001b[0m \u001b[1;33m=\u001b[0m \u001b[0mvalues\u001b[0m\u001b[1;33m.\u001b[0m\u001b[0mravel\u001b[0m\u001b[1;33m(\u001b[0m\u001b[1;33m)\u001b[0m\u001b[1;33m\u001b[0m\u001b[1;33m\u001b[0m\u001b[0m\n\u001b[0;32m    672\u001b[0m             \u001b[1;32mtry\u001b[0m\u001b[1;33m:\u001b[0m\u001b[1;33m\u001b[0m\u001b[1;33m\u001b[0m\u001b[0m\n\u001b[1;32m--> 673\u001b[1;33m                 \u001b[0mvalues\u001b[0m \u001b[1;33m=\u001b[0m \u001b[0mastype_nansafe\u001b[0m\u001b[1;33m(\u001b[0m\u001b[0mvals1d\u001b[0m\u001b[1;33m,\u001b[0m \u001b[0mdtype\u001b[0m\u001b[1;33m,\u001b[0m \u001b[0mcopy\u001b[0m\u001b[1;33m=\u001b[0m\u001b[1;32mTrue\u001b[0m\u001b[1;33m)\u001b[0m\u001b[1;33m\u001b[0m\u001b[1;33m\u001b[0m\u001b[0m\n\u001b[0m\u001b[0;32m    674\u001b[0m             \u001b[1;32mexcept\u001b[0m \u001b[1;33m(\u001b[0m\u001b[0mValueError\u001b[0m\u001b[1;33m,\u001b[0m \u001b[0mTypeError\u001b[0m\u001b[1;33m)\u001b[0m\u001b[1;33m:\u001b[0m\u001b[1;33m\u001b[0m\u001b[1;33m\u001b[0m\u001b[0m\n\u001b[0;32m    675\u001b[0m                 \u001b[1;31m# e.g. astype_nansafe can fail on object-dtype of strings\u001b[0m\u001b[1;33m\u001b[0m\u001b[1;33m\u001b[0m\u001b[1;33m\u001b[0m\u001b[0m\n",
      "\u001b[1;32m~\\anaconda3\\lib\\site-packages\\pandas\\core\\dtypes\\cast.py\u001b[0m in \u001b[0;36mastype_nansafe\u001b[1;34m(arr, dtype, copy, skipna)\u001b[0m\n\u001b[0;32m   1072\u001b[0m         \u001b[1;31m# work around NumPy brokenness, #1987\u001b[0m\u001b[1;33m\u001b[0m\u001b[1;33m\u001b[0m\u001b[1;33m\u001b[0m\u001b[0m\n\u001b[0;32m   1073\u001b[0m         \u001b[1;32mif\u001b[0m \u001b[0mnp\u001b[0m\u001b[1;33m.\u001b[0m\u001b[0missubdtype\u001b[0m\u001b[1;33m(\u001b[0m\u001b[0mdtype\u001b[0m\u001b[1;33m.\u001b[0m\u001b[0mtype\u001b[0m\u001b[1;33m,\u001b[0m \u001b[0mnp\u001b[0m\u001b[1;33m.\u001b[0m\u001b[0minteger\u001b[0m\u001b[1;33m)\u001b[0m\u001b[1;33m:\u001b[0m\u001b[1;33m\u001b[0m\u001b[1;33m\u001b[0m\u001b[0m\n\u001b[1;32m-> 1074\u001b[1;33m             \u001b[1;32mreturn\u001b[0m \u001b[0mlib\u001b[0m\u001b[1;33m.\u001b[0m\u001b[0mastype_intsafe\u001b[0m\u001b[1;33m(\u001b[0m\u001b[0marr\u001b[0m\u001b[1;33m.\u001b[0m\u001b[0mravel\u001b[0m\u001b[1;33m(\u001b[0m\u001b[1;33m)\u001b[0m\u001b[1;33m,\u001b[0m \u001b[0mdtype\u001b[0m\u001b[1;33m)\u001b[0m\u001b[1;33m.\u001b[0m\u001b[0mreshape\u001b[0m\u001b[1;33m(\u001b[0m\u001b[0marr\u001b[0m\u001b[1;33m.\u001b[0m\u001b[0mshape\u001b[0m\u001b[1;33m)\u001b[0m\u001b[1;33m\u001b[0m\u001b[1;33m\u001b[0m\u001b[0m\n\u001b[0m\u001b[0;32m   1075\u001b[0m \u001b[1;33m\u001b[0m\u001b[0m\n\u001b[0;32m   1076\u001b[0m         \u001b[1;31m# if we have a datetime/timedelta array of objects\u001b[0m\u001b[1;33m\u001b[0m\u001b[1;33m\u001b[0m\u001b[1;33m\u001b[0m\u001b[0m\n",
      "\u001b[1;32mpandas\\_libs\\lib.pyx\u001b[0m in \u001b[0;36mpandas._libs.lib.astype_intsafe\u001b[1;34m()\u001b[0m\n",
      "\u001b[1;31mValueError\u001b[0m: invalid literal for int() with base 10: '113 min'"
     ]
    }
   ],
   "source": [
    "df.replace({'duration':{'1 Season':'1 Seasons'}},inplace=True)\n",
    "df.duration=df.duration.str.replace(' Seasons','').astype(int)"
   ]
  },
  {
   "cell_type": "code",
   "execution_count": null,
   "id": "cc3c3ca3",
   "metadata": {},
   "outputs": [],
   "source": []
  }
 ],
 "metadata": {
  "kernelspec": {
   "display_name": "Python 3",
   "language": "python",
   "name": "python3"
  },
  "language_info": {
   "codemirror_mode": {
    "name": "ipython",
    "version": 3
   },
   "file_extension": ".py",
   "mimetype": "text/x-python",
   "name": "python",
   "nbconvert_exporter": "python",
   "pygments_lexer": "ipython3",
   "version": "3.8.8"
  }
 },
 "nbformat": 4,
 "nbformat_minor": 5
}
